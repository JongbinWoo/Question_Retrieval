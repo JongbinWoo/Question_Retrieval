{
 "metadata": {
  "language_info": {
   "codemirror_mode": {
    "name": "ipython",
    "version": 3
   },
   "file_extension": ".py",
   "mimetype": "text/x-python",
   "name": "python",
   "nbconvert_exporter": "python",
   "pygments_lexer": "ipython3",
   "version": "3.7.10"
  },
  "orig_nbformat": 4,
  "kernelspec": {
   "name": "python3",
   "display_name": "Python 3.7.10 64-bit"
  },
  "interpreter": {
   "hash": "31f2aee4e71d21fbe5cf8b01ff0e069b9275f58929596ceb00d14d90e3e16cd6"
  }
 },
 "nbformat": 4,
 "nbformat_minor": 2,
 "cells": [
  {
   "source": [
    "# Load preprocessed dataset\n",
    "- AI hub + KorQuAD에 있는 question-answer pair 40만개"
   ],
   "cell_type": "markdown",
   "metadata": {}
  },
  {
   "cell_type": "code",
   "execution_count": 2,
   "metadata": {},
   "outputs": [],
   "source": [
    "import pickle\n",
    "\n",
    "with open(\"/content/drive/MyDrive/haystack_tutorial/faq_dataset.pickle\", \"rb\") as f:\n",
    "    qa_dataset = pickle.load(f)"
   ]
  },
  {
   "cell_type": "code",
   "execution_count": 3,
   "metadata": {},
   "outputs": [],
   "source": [
    "qa_sets = list()\n",
    "for q, a in qa_dataset.items():\n",
    "  pair = dict()\n",
    "  pair['text'] = q\n",
    "  pair['answer'] = a\n",
    "  qa_sets.append(pair)"
   ]
  },
  {
   "source": [
    "# Setting FAISS Document Store\n",
    "- Haystack에서 제공하는 faissdocumentstore 사용\n",
    "- sql_url을 지정해놓음으로서 재사용시 빠르게 load가능"
   ],
   "cell_type": "markdown",
   "metadata": {}
  },
  {
   "cell_type": "code",
   "execution_count": 5,
   "metadata": {},
   "outputs": [],
   "source": [
    "from haystack.document_store.faiss import FAISSDocumentStore\n",
    "\n",
    "document_store = FAISSDocumentStore(\n",
    "    sql_url='sqlite:///faq.db',\n",
    "    faiss_index_factory_str='HNSW',\n",
    ")"
   ]
  },
  {
   "cell_type": "code",
   "execution_count": null,
   "metadata": {},
   "outputs": [],
   "source": [
    "document_store.use_windowed_query = False\n",
    "document_store.write_documents(qa_sets)"
   ]
  },
  {
   "source": [
    "# Load Bi-Encoder\n",
    "- 기존에 학습해놓은 모델을 불러온다.(참고: train_bi_encoder.py)"
   ],
   "cell_type": "markdown",
   "metadata": {}
  },
  {
   "cell_type": "code",
   "execution_count": 7,
   "metadata": {},
   "outputs": [],
   "source": [
    "bi_encoder_path = '/content/drive/MyDrive/haystack_tutorial/senetence_transformers_test/model/training_stsbenchmark_kykim-bert-kor-base-2021-06-19_17-25-20'\n",
    "from haystack.retriever.dense import EmbeddingRetriever\n",
    "retriever = EmbeddingRetriever(\n",
    "    document_store=document_store, \n",
    "    embedding_model=bi_encoder_path, \n",
    "    use_gpu=True,    model_format='sentence_transformers')"
   ]
  },
  {
   "source": [
    "faiss document store에 embedding을 update\n",
    "- Colab V100 기준 1시간 소요\n",
    "- index를 저장해서 재사용하면 추후 사용이 편해진다."
   ],
   "cell_type": "markdown",
   "metadata": {}
  },
  {
   "cell_type": "code",
   "execution_count": null,
   "metadata": {},
   "outputs": [],
   "source": [
    "document_store.update_embeddings(retriever)"
   ]
  },
  {
   "source": [
    "# Load Cross-Encoder\n",
    "- 기존에 학습해놓은 모델을 불러온다.(참고: train_cross_encoder.py)"
   ],
   "cell_type": "markdown",
   "metadata": {}
  },
  {
   "cell_type": "code",
   "execution_count": null,
   "metadata": {},
   "outputs": [],
   "source": [
    "from sentence_transformers.cross_encoder import CrossEncoder\n",
    "\n",
    "cross_encoder_path = '/content/drive/MyDrive/haystack_tutorial/senetence_transformers_test/output/training_stsbenchmark-2021-06-20_12-50-33'\n",
    "\n",
    "cross_encoder = CrossEncoder(cross_encoder_path)"
   ]
  },
  {
   "source": [
    "- 위에서 setting한 모델과 faiss document store를 이용해서 query가 들어오면 유사한 질문을 찾아 답변을 해준다. \n",
    "- Cross-Encoder를 통해 retrieved question과 query의 유사도를 다시 체크함으로서 정확도를 높인다."
   ],
   "cell_type": "markdown",
   "metadata": {}
  },
  {
   "cell_type": "code",
   "execution_count": null,
   "metadata": {},
   "outputs": [],
   "source": [
    "from hanspell import spell_checker\n",
    "\n",
    "def get_answer(query: str):\n",
    "    query = spell_checker.check(query).checked\n",
    "    results = retriever.retrieve(query)\n",
    "    for result in results:\n",
    "        if result.score < 380:\n",
    "            break\n",
    "        else:\n",
    "            p = cross_encoder.predict([[result.text, query]])\n",
    "            if p > 0.8:\n",
    "                return result.meta['answer']\n",
    "    return 'no answer'\n",
    "            "
   ]
  }
 ]
}